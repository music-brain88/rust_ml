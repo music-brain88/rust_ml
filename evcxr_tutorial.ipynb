{
 "cells": [
  {
   "cell_type": "code",
   "execution_count": 2,
   "metadata": {},
   "outputs": [
    {
     "data": {
      "text/plain": [
       "sccache: true\n",
       "Preserve vars on panic: true\n",
       "Timing: true\n"
      ]
     },
     "execution_count": 2,
     "metadata": {},
     "output_type": "execute_result"
    },
    {
     "data": {
      "text/html": [
       "<span style=\"color: rgba(0,0,0,0.4);\">Took 2484ms</span>"
      ]
     },
     "execution_count": 2,
     "metadata": {},
     "output_type": "execute_result"
    }
   ],
   "source": [
    ":sccache 1\n",
    ":preserve_vars_on_panic 1\n",
    ":timing"
   ]
  },
  {
   "cell_type": "code",
   "execution_count": 4,
   "metadata": {},
   "outputs": [
    {
     "data": {
      "text/html": [
       "<span style=\"color: rgba(0,0,0,0.4);\">Took 567ms</span>"
      ]
     },
     "execution_count": 4,
     "metadata": {},
     "output_type": "execute_result"
    }
   ],
   "source": [
    "pub struct User {\n",
    "    username: String\n",
    "}\n",
    "\n",
    "impl std::fmt::Display for User {\n",
    "    fn fmt(&self, f: &mut std::fmt::Formatter) -> std::fmt::Result {\n",
    "        write!(\n",
    "            f,\n",
    "            \"username: {}\",\n",
    "            self.username\n",
    "        )\n",
    "    }\n",
    "}"
   ]
  },
  {
   "cell_type": "code",
   "execution_count": 5,
   "metadata": {},
   "outputs": [
    {
     "data": {
      "text/html": [
       "<span style=\"color: rgba(0,0,0,0.4);\">Took 3674ms</span>"
      ]
     },
     "execution_count": 5,
     "metadata": {},
     "output_type": "execute_result"
    }
   ],
   "source": [
    "let user = User { username: String::from(\"John Doe\") };"
   ]
  },
  {
   "cell_type": "code",
   "execution_count": 7,
   "metadata": {},
   "outputs": [
    {
     "ename": "Error",
     "evalue": "expected `;`, found <end of input>",
     "output_type": "error",
     "traceback": [
      "user // 自動でprintされるわけではない",
      "\u001b[91m    \u001b[0m \u001b[94m\u001b[0m",
      "expected `;`, found <end of input>",
      "\u001b[1mhelp\u001b[0m: add `;` here\n\n;"
     ]
    },
    {
     "ename": "Error",
     "evalue": "mismatched types",
     "output_type": "error",
     "traceback": [
      "user // 自動でprintされるわけではない",
      "\u001b[91m^^^^\u001b[0m \u001b[94mexpected `()`, found struct `User`\u001b[0m",
      "mismatched types"
     ]
    }
   ],
   "source": [
    "user // 自動でprintされるわけではない"
   ]
  },
  {
   "cell_type": "code",
   "execution_count": 6,
   "metadata": {},
   "outputs": [
    {
     "data": {
      "text/html": [
       "<span style=\"color: rgba(0,0,0,0.4);\">Took 1582ms</span>"
      ]
     },
     "execution_count": 6,
     "metadata": {},
     "output_type": "execute_result"
    },
    {
     "name": "stdout",
     "output_type": "stream",
     "text": [
      "User username: John Doe\n"
     ]
    }
   ],
   "source": [
    "println!(\"User {}\", user);"
   ]
  },
  {
   "cell_type": "code",
   "execution_count": 7,
   "metadata": {},
   "outputs": [
    {
     "data": {
      "text/html": [
       "<span style=\"color: rgba(0,0,0,0.4);\">Took 7368ms</span>"
      ]
     },
     "execution_count": 7,
     "metadata": {},
     "output_type": "execute_result"
    }
   ],
   "source": [
    ":dep rand = { version = \"0.7.3\" }"
   ]
  },
  {
   "cell_type": "code",
   "execution_count": 8,
   "metadata": {},
   "outputs": [
    {
     "name": "stderr",
     "output_type": "stream",
     "text": [
      "The type of the variable user was redefined, so was lost.\n"
     ]
    },
    {
     "data": {
      "text/html": [
       "<span style=\"color: rgba(0,0,0,0.4);\">Took 4019ms</span>"
      ]
     },
     "execution_count": 8,
     "metadata": {},
     "output_type": "execute_result"
    }
   ],
   "source": [
    "let x: u8 = rand::random();"
   ]
  },
  {
   "cell_type": "code",
   "execution_count": 9,
   "metadata": {},
   "outputs": [
    {
     "data": {
      "text/html": [
       "<table><tr><td>1</td><td>2</td><td>3</td></tr><tr><td>4</td><td>5</td><td>6</td></tr><tr><td>7</td><td>8</td><td>9</td></tr></table>"
      ]
     },
     "execution_count": 9,
     "metadata": {},
     "output_type": "execute_result"
    },
    {
     "data": {
      "text/html": [
       "<span style=\"color: rgba(0,0,0,0.4);\">Took 1590ms</span>"
      ]
     },
     "execution_count": 9,
     "metadata": {},
     "output_type": "execute_result"
    }
   ],
   "source": [
    "use std::fmt::Debug;\n",
    "pub struct Matrix<T> {pub values: Vec<T>, pub row_size: usize}\n",
    "impl<T: Debug> Matrix<T> {\n",
    "    pub fn evcxr_display(&self) {\n",
    "        let mut html = String::new();\n",
    "        html.push_str(\"<table>\");\n",
    "        for r in 0..(self.values.len() / self.row_size) {\n",
    "            html.push_str(\"<tr>\");\n",
    "            for c in 0..self.row_size {\n",
    "                html.push_str(\"<td>\");\n",
    "                html.push_str(&format!(\"{:?}\", self.values[r * self.row_size + c]));\n",
    "                html.push_str(\"</td>\");\n",
    "            }\n",
    "            html.push_str(\"</tr>\");\n",
    "        }\n",
    "        html.push_str(\"</table>\");\n",
    "        println!(\"EVCXR_BEGIN_CONTENT text/html\\n{}\\nEVCXR_END_CONTENT\", html);\n",
    "    }\n",
    "}\n",
    "let m = Matrix {values: vec![1,2,3,4,5,6,7,8,9], row_size: 3};\n",
    "m"
   ]
  },
  {
   "cell_type": "markdown",
   "metadata": {},
   "source": [
    "# Commands:\n",
    "\n",
    "## Evcxrの開発体験を変更するコマンド\n",
    "\n",
    "- `:opt [level]` Toggle/set optimization level\n",
    "    - 最適化のレベルの設定\n",
    "\n",
    "- `:fmt [format]` Set output formatter (default: `{:?}`).\n",
    "    - 出力にformatを掛ける\n",
    "\n",
    "- `:efmt [format]` Set the formatter for errors returned by `?`\n",
    "    - 出力にformatを掛ける\n",
    "\n",
    "- `:sccache [0|1]`  Set whether to use sccache.\n",
    "    - sccacheを使用するかどうかを設定\n",
    "    - 使うとキャッシュを使用してコンパイルしますの単純にビルドが早くなる\n",
    "\n",
    "- `:linker [linker]` Set/print linker. Supported: `system`, `lld`\n",
    "    - 使用しているリンカを出力する [^1]\n",
    "    - 機械語のプログラムの断片を適切に結合し、実行可能なプログラムとして生成するためのプログラム(注釈がjupyterで使えなかった)\n",
    "   \n",
    "- `:timing` Toggle printing of how long evaluations take\n",
    "    - 処理にかかった時間の表示切り替え\n",
    "\n",
    "- `:time_passes` Toggle printing of rustc pass times (requires nightly)\n",
    "    - rustcが処理した時間の表示\n",
    "\n",
    "- `internal_debug` Toggle internal code debugging output\n",
    "\n",
    "- `:preserve_vars_on_panic [0|1]` Try to keep vars on panic\n",
    "\n",
    "- `:explain` Print the explanation of last error\n",
    "    - 最後のエラーをの詳細説明してくれるコマンド\n",
    "\n",
    "\n",
    "- `:clear` Clear all state, keeping compilation cache\n",
    "    - 全てのOutputを消す、補完などのキャッシュは残す\n",
    "\n",
    "- `:last_compile_dir` Print the directory in which we last compiled\n",
    "    - 最後にコンパイルしたディレクトリをプリントする。\n",
    "\n",
    "\n",
    "- `:last_error_json` Print the last compilation error as JSON (for debugging)\n",
    "    - 最後に発生したコンパイルエラーをjsonで吐き出す\n",
    "\n",
    "\n",
    "- `:dep` Add an external dependency. e.g. :dep regex = \"1.0\"\n",
    "    - 依存関係をインストールする上記の例では正規表現を追加している\n",
    "\n",
    "\n",
    "- `:help` View the help message\n",
    "    - ヘルプコマンド\n"
   ]
  },
  {
   "cell_type": "markdown",
   "metadata": {},
   "source": [
    "## Evcxr を使うにあたって良く使うコマンド、設定した方がいいコマンド\n",
    "\n",
    "1. `opt dev`\n",
    "2. `sccache 1`\n",
    "3. `timing`\n",
    "4. `:dep`\n"
   ]
  },
  {
   "cell_type": "markdown",
   "metadata": {},
   "source": [
    "## `:explain` コマンド"
   ]
  },
  {
   "cell_type": "code",
   "execution_count": 12,
   "metadata": {},
   "outputs": [
    {
     "ename": "Error",
     "evalue": "cannot find value `user` in this scope",
     "output_type": "error",
     "traceback": [
      "user",
      "\u001b[91m^^^^\u001b[0m \u001b[94mnot found in this scope\u001b[0m",
      "cannot find value `user` in this scope"
     ]
    }
   ],
   "source": [
    "user"
   ]
  },
  {
   "cell_type": "code",
   "execution_count": 13,
   "metadata": {},
   "outputs": [
    {
     "data": {
      "text/plain": [
       "An unresolved name was used.\n",
       "\n",
       "Erroneous code examples:\n",
       "\n",
       "```compile_fail,E0425\n",
       "something_that_doesnt_exist::foo;\n",
       "// error: unresolved name `something_that_doesnt_exist::foo`\n",
       "\n",
       "// or:\n",
       "\n",
       "trait Foo {\n",
       "    fn bar() {\n",
       "        Self; // error: unresolved name `Self`\n",
       "    }\n",
       "}\n",
       "\n",
       "// or:\n",
       "\n",
       "let x = unknown_variable;  // error: unresolved name `unknown_variable`\n",
       "```\n",
       "\n",
       "Please verify that the name wasn't misspelled and ensure that the\n",
       "identifier being referred to is valid for the given situation. Example:\n",
       "\n",
       "```\n",
       "enum something_that_does_exist {\n",
       "    Foo,\n",
       "}\n",
       "```\n",
       "\n",
       "Or:\n",
       "\n",
       "```\n",
       "mod something_that_does_exist {\n",
       "    pub static foo : i32 = 0i32;\n",
       "}\n",
       "\n",
       "something_that_does_exist::foo; // ok!\n",
       "```\n",
       "\n",
       "Or:\n",
       "\n",
       "```\n",
       "let unknown_variable = 12u32;\n",
       "let x = unknown_variable; // ok!\n",
       "```\n",
       "\n",
       "If the item is not defined in the current module, it must be imported using a\n",
       "`use` statement, like so:\n",
       "\n",
       "```\n",
       "# mod foo { pub fn bar() {} }\n",
       "# fn main() {\n",
       "use foo::bar;\n",
       "bar();\n",
       "# }\n",
       "```\n",
       "\n",
       "If the item you are importing is not defined in some super-module of the\n",
       "current module, then it must also be declared as public (e.g., `pub fn`).\n",
       "\n"
      ]
     },
     "execution_count": 13,
     "metadata": {},
     "output_type": "execute_result"
    },
    {
     "data": {
      "text/html": [
       "<span style=\"color: rgba(0,0,0,0.4);\">Took 0ms</span>"
      ]
     },
     "execution_count": 13,
     "metadata": {},
     "output_type": "execute_result"
    }
   ],
   "source": [
    ":explain"
   ]
  },
  {
   "cell_type": "markdown",
   "metadata": {},
   "source": [
    "## `:last_compile_dir` コマンド"
   ]
  },
  {
   "cell_type": "code",
   "execution_count": 14,
   "metadata": {},
   "outputs": [
    {
     "data": {
      "text/plain": [
       "\"/tmp/.tmp599kPT\"\n"
      ]
     },
     "execution_count": 14,
     "metadata": {},
     "output_type": "execute_result"
    },
    {
     "data": {
      "text/html": [
       "<span style=\"color: rgba(0,0,0,0.4);\">Took 0ms</span>"
      ]
     },
     "execution_count": 14,
     "metadata": {},
     "output_type": "execute_result"
    }
   ],
   "source": [
    ":last_compile_dir"
   ]
  },
  {
   "cell_type": "markdown",
   "metadata": {},
   "source": [
    "## `:last_error_json` コマンド"
   ]
  },
  {
   "cell_type": "code",
   "execution_count": 15,
   "metadata": {},
   "outputs": [
    {
     "ename": "Error",
     "evalue": "{\"rendered\":\"error[E0425]: cannot find value `user` in this scope\\n   --> src/lib.rs:157:1\\n    |\\n157 | user\\n    | ^^^^ not found in this scope\\n\\n\",\"children\":[],\"code\":{\"code\":\"E0425\",\"explanation\":\"An unresolved name was used.\\n\\nErroneous code examples:\\n\\n```compile_fail,E0425\\nsomething_that_doesnt_exist::foo;\\n// error: unresolved name `something_that_doesnt_exist::foo`\\n\\n// or:\\n\\ntrait Foo {\\n    fn bar() {\\n        Self; // error: unresolved name `Self`\\n    }\\n}\\n\\n// or:\\n\\nlet x = unknown_variable;  // error: unresolved name `unknown_variable`\\n```\\n\\nPlease verify that the name wasn't misspelled and ensure that the\\nidentifier being referred to is valid for the given situation. Example:\\n\\n```\\nenum something_that_does_exist {\\n    Foo,\\n}\\n```\\n\\nOr:\\n\\n```\\nmod something_that_does_exist {\\n    pub static foo : i32 = 0i32;\\n}\\n\\nsomething_that_does_exist::foo; // ok!\\n```\\n\\nOr:\\n\\n```\\nlet unknown_variable = 12u32;\\nlet x = unknown_variable; // ok!\\n```\\n\\nIf the item is not defined in the current module, it must be imported using a\\n`use` statement, like so:\\n\\n```\\n# mod foo { pub fn bar() {} }\\n# fn main() {\\nuse foo::bar;\\nbar();\\n# }\\n```\\n\\nIf the item you are importing is not defined in some super-module of the\\ncurrent module, then it must also be declared as public (e.g., `pub fn`).\\n\"},\"level\":\"error\",\"message\":\"cannot find value `user` in this scope\",\"spans\":[{\"byte_end\":5377,\"byte_start\":5373,\"column_end\":5,\"column_start\":1,\"expansion\":null,\"file_name\":\"src/lib.rs\",\"is_primary\":true,\"label\":\"not found in this scope\",\"line_end\":157,\"line_start\":157,\"suggested_replacement\":null,\"suggestion_applicability\":null,\"text\":[{\"highlight_end\":5,\"highlight_start\":1,\"text\":\"user\"}]}]}\n",
     "output_type": "error",
     "traceback": [
      ":last_error_json",
      "\u001b[91m^^^^^^^^^^^^^^^^\u001b[0m \u001b[94m\u001b[0m",
      "{\"rendered\":\"error[E0425]: cannot find value `user` in this scope\\n   --> src/lib.rs:157:1\\n    |\\n157 | user\\n    | ^^^^ not found in this scope\\n\\n\",\"children\":[],\"code\":{\"code\":\"E0425\",\"explanation\":\"An unresolved name was used.\\n\\nErroneous code examples:\\n\\n```compile_fail,E0425\\nsomething_that_doesnt_exist::foo;\\n// error: unresolved name `something_that_doesnt_exist::foo`\\n\\n// or:\\n\\ntrait Foo {\\n    fn bar() {\\n        Self; // error: unresolved name `Self`\\n    }\\n}\\n\\n// or:\\n\\nlet x = unknown_variable;  // error: unresolved name `unknown_variable`\\n```\\n\\nPlease verify that the name wasn't misspelled and ensure that the\\nidentifier being referred to is valid for the given situation. Example:\\n\\n```\\nenum something_that_does_exist {\\n    Foo,\\n}\\n```\\n\\nOr:\\n\\n```\\nmod something_that_does_exist {\\n    pub static foo : i32 = 0i32;\\n}\\n\\nsomething_that_does_exist::foo; // ok!\\n```\\n\\nOr:\\n\\n```\\nlet unknown_variable = 12u32;\\nlet x = unknown_variable; // ok!\\n```\\n\\nIf the item is not defined in the current module, it must be imported using a\\n`use` statement, like so:\\n\\n```\\n# mod foo { pub fn bar() {} }\\n# fn main() {\\nuse foo::bar;\\nbar();\\n# }\\n```\\n\\nIf the item you are importing is not defined in some super-module of the\\ncurrent module, then it must also be declared as public (e.g., `pub fn`).\\n\"},\"level\":\"error\",\"message\":\"cannot find value `user` in this scope\",\"spans\":[{\"byte_end\":5377,\"byte_start\":5373,\"column_end\":5,\"column_start\":1,\"expansion\":null,\"file_name\":\"src/lib.rs\",\"is_primary\":true,\"label\":\"not found in this scope\",\"line_end\":157,\"line_start\":157,\"suggested_replacement\":null,\"suggestion_applicability\":null,\"text\":[{\"highlight_end\":5,\"highlight_start\":1,\"text\":\"user\"}]}]}\n"
     ]
    }
   ],
   "source": [
    ":last_error_json"
   ]
  },
  {
   "cell_type": "markdown",
   "metadata": {},
   "source": [
    "## `:dep` コマンド"
   ]
  },
  {
   "cell_type": "code",
   "execution_count": 10,
   "metadata": {},
   "outputs": [
    {
     "ename": "Error",
     "evalue": "unresolved import `regex`",
     "output_type": "error",
     "traceback": [
      "use of undeclared crate or module `regex`",
      "unresolved import `regex`"
     ]
    }
   ],
   "source": [
    "use regex::Regex;"
   ]
  },
  {
   "cell_type": "code",
   "execution_count": 11,
   "metadata": {},
   "outputs": [
    {
     "data": {
      "text/html": [
       "<span style=\"color: rgba(0,0,0,0.4);\">Took 8224ms</span>"
      ]
     },
     "execution_count": 11,
     "metadata": {},
     "output_type": "execute_result"
    }
   ],
   "source": [
    ":dep regex = \"1.0\""
   ]
  },
  {
   "cell_type": "code",
   "execution_count": 12,
   "metadata": {},
   "outputs": [
    {
     "name": "stderr",
     "output_type": "stream",
     "text": [
      "The type of the variable m was redefined, so was lost.\n"
     ]
    },
    {
     "data": {
      "text/html": [
       "<span style=\"color: rgba(0,0,0,0.4);\">Took 5722ms</span>"
      ]
     },
     "execution_count": 12,
     "metadata": {},
     "output_type": "execute_result"
    },
    {
     "name": "stdout",
     "output_type": "stream",
     "text": [
      "80\n"
     ]
    }
   ],
   "source": [
    "use regex::Regex;\n",
    "let str = \"MZ-80K2E\";\n",
    "let re = Regex::new(r\"\\d+\").unwrap();\n",
    "let caps = re.captures(str).unwrap();\n",
    "println!(\"{}\", caps.get(0).unwrap().as_str());"
   ]
  },
  {
   "cell_type": "code",
   "execution_count": 13,
   "metadata": {},
   "outputs": [
    {
     "data": {
      "text/html": [
       "<table>\n",
       "<tr><td>:clear</td><td>Clear all state, keeping compilation cache</td></tr>\n",
       "<tr><td>:dep</td><td>Add dependency. e.g. :dep regex = \"1.0\"</td></tr>\n",
       "<tr><td>:efmt</td><td>Set the formatter for errors returned by ?</td></tr>\n",
       "<tr><td>:explain</td><td>Print explanation of last error</td></tr>\n",
       "<tr><td>:fmt</td><td>Set output formatter (default: {:?})</td></tr>\n",
       "<tr><td>:help</td><td>Print command help</td></tr>\n",
       "<tr><td>:internal_debug</td><td>Toggle various internal debugging code</td></tr>\n",
       "<tr><td>:last_compile_dir</td><td>Print the directory in which we last compiled</td></tr>\n",
       "<tr><td>:last_error_json</td><td>Print the last compilation error as JSON (for debugging)</td></tr>\n",
       "<tr><td>:linker</td><td>Set/print linker. Supported: system, lld</td></tr>\n",
       "<tr><td>:load_config</td><td>Reloads startup configuration files. Accepts optional flag `--quiet` to suppress logging.</td></tr>\n",
       "<tr><td>:offline</td><td>Set offline mode when invoking cargo</td></tr>\n",
       "<tr><td>:opt</td><td>Set optimization level (0/1/2)</td></tr>\n",
       "<tr><td>:preserve_vars_on_panic</td><td>Try to keep vars on panic (0/1)</td></tr>\n",
       "<tr><td>:quit</td><td>Quit evaluation and exit</td></tr>\n",
       "<tr><td>:sccache</td><td>Set whether to use sccache (0/1).</td></tr>\n",
       "<tr><td>:time_passes</td><td>Toggle printing of rustc pass times (requires nightly)</td></tr>\n",
       "<tr><td>:timing</td><td>Toggle printing of how long evaluations take</td></tr>\n",
       "<tr><td>:toolchain</td><td>Set which toolchain to use (e.g. nightly)</td></tr>\n",
       "<tr><td>:vars</td><td>List bound variables and their types</td></tr>\n",
       "<tr><td>:version</td><td>Print Evcxr version</td></tr>\n",
       "</table>\n"
      ],
      "text/plain": [
       ":clear            Clear all state, keeping compilation cache\n",
       ":dep              Add dependency. e.g. :dep regex = \"1.0\"\n",
       ":efmt             Set the formatter for errors returned by ?\n",
       ":explain          Print explanation of last error\n",
       ":fmt              Set output formatter (default: {:?})\n",
       ":help             Print command help\n",
       ":internal_debug   Toggle various internal debugging code\n",
       ":last_compile_dir Print the directory in which we last compiled\n",
       ":last_error_json  Print the last compilation error as JSON (for debugging)\n",
       ":linker           Set/print linker. Supported: system, lld\n",
       ":load_config      Reloads startup configuration files. Accepts optional flag `--quiet` to suppress logging.\n",
       ":offline          Set offline mode when invoking cargo\n",
       ":opt              Set optimization level (0/1/2)\n",
       ":preserve_vars_on_panic Try to keep vars on panic (0/1)\n",
       ":quit             Quit evaluation and exit\n",
       ":sccache          Set whether to use sccache (0/1).\n",
       ":time_passes      Toggle printing of rustc pass times (requires nightly)\n",
       ":timing           Toggle printing of how long evaluations take\n",
       ":toolchain        Set which toolchain to use (e.g. nightly)\n",
       ":vars             List bound variables and their types\n",
       ":version          Print Evcxr version\n"
      ]
     },
     "execution_count": 13,
     "metadata": {},
     "output_type": "execute_result"
    },
    {
     "data": {
      "text/html": [
       "<span style=\"color: rgba(0,0,0,0.4);\">Took 0ms</span>"
      ]
     },
     "execution_count": 13,
     "metadata": {},
     "output_type": "execute_result"
    }
   ],
   "source": [
    ":help"
   ]
  },
  {
   "cell_type": "code",
   "execution_count": 14,
   "metadata": {},
   "outputs": [
    {
     "data": {
      "text/plain": [
       "0.12.0\n"
      ]
     },
     "execution_count": 14,
     "metadata": {},
     "output_type": "execute_result"
    },
    {
     "data": {
      "text/html": [
       "<span style=\"color: rgba(0,0,0,0.4);\">Took 0ms</span>"
      ]
     },
     "execution_count": 14,
     "metadata": {},
     "output_type": "execute_result"
    }
   ],
   "source": [
    ":version"
   ]
  },
  {
   "cell_type": "code",
   "execution_count": null,
   "metadata": {},
   "outputs": [],
   "source": []
  }
 ],
 "metadata": {
  "kernelspec": {
   "display_name": "Rust",
   "language": "rust",
   "name": "rust"
  },
  "language_info": {
   "codemirror_mode": "rust",
   "file_extension": ".rs",
   "mimetype": "text/rust",
   "name": "Rust",
   "pygment_lexer": "rust",
   "version": ""
  }
 },
 "nbformat": 4,
 "nbformat_minor": 4
}
